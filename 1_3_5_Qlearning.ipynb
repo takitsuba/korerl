{
 "cells": [
  {
   "cell_type": "markdown",
   "metadata": {},
   "source": [
    "# これからの強化学習\n",
    "## 1.3.5. Q-learning"
   ]
  },
  {
   "cell_type": "code",
   "execution_count": 1,
   "metadata": {
    "collapsed": true
   },
   "outputs": [],
   "source": [
    "import numpy as np\n",
    "import matplotlib.pyplot as plt\n",
    "import random\n",
    "\n",
    "S = np.arange(4)\n",
    "A = np.arange(2)\n",
    "\n",
    "# 報酬。ある状態においてa_1の報酬、a_2の報酬\n",
    "R = np.array([[0, 1], [-1, 1], [5, -100], [0, 0]])\n",
    "\n",
    "# ある状態で、ある行動をとったら次の状態はSのどれか。\n",
    "# S_1(0)でa_1の行動をとったら次は2にいるよ。\n",
    "S1 = np.array([[2, 1], [0, 3], [3, 0], [None, None]])\n",
    "\n",
    "# 学習率\n",
    "alpha = 0.01\n",
    "\n",
    "# 割引率\n",
    "gamma = 0.8\n",
    "\n",
    "epi = 3000\n",
    "\n",
    "# Q関数の初期値\n",
    "q_init = 10\n",
    "\n",
    "Q = np.zeros(R.shape)\n",
    "\n",
    "# 元のコードでは、S_4でa_1,a_2することの行動価値関数の初期値に\n",
    "# 10を入れていたが、0にすべきと考えそう変更した。\n",
    "# S_4ではもう行動できないため、期待値は0だと考えた。\n",
    "Q[:3] += q_init"
   ]
  },
  {
   "cell_type": "code",
   "execution_count": 2,
   "metadata": {},
   "outputs": [
    {
     "data": {
      "text/plain": [
       "array([[ 10.,  10.],\n",
       "       [ 10.,  10.],\n",
       "       [ 10.,  10.],\n",
       "       [  0.,   0.]])"
      ]
     },
     "execution_count": 2,
     "metadata": {},
     "output_type": "execute_result"
    }
   ],
   "source": [
    "# ある状態である行動をとった際の行動価値の値\n",
    "Q"
   ]
  },
  {
   "cell_type": "code",
   "execution_count": 3,
   "metadata": {},
   "outputs": [
    {
     "data": {
      "text/plain": [
       "10.0"
      ]
     },
     "execution_count": 3,
     "metadata": {},
     "output_type": "execute_result"
    }
   ],
   "source": [
    "Q[2].max()"
   ]
  },
  {
   "cell_type": "code",
   "execution_count": 4,
   "metadata": {
    "collapsed": true
   },
   "outputs": [],
   "source": [
    "# 次の移動先がSのときにQが最大となるaのQを返す。\n",
    "def maxa(S_num):\n",
    "    return Q[S_num].max()\n",
    "    \n",
    "\n",
    "# Qの状態・行動について\n",
    "# 全て、一回ずつ更新する。\n",
    "# しかし、移動先がS_4であるような状態・行動の場合は更新しない\n",
    "def Qlearning():\n",
    "    for s in S:\n",
    "        for a in A:\n",
    "            if S1[s][a] == None:\n",
    "                continue\n",
    "            TD = R[s][a] + gamma * maxa(S1[s][a]) - Q[s][a]\n",
    "            Q[s][a] += alpha * TD"
   ]
  },
  {
   "cell_type": "code",
   "execution_count": 5,
   "metadata": {},
   "outputs": [],
   "source": [
    "result_q = []\n",
    "\n",
    "# epi回数繰り返す。\n",
    "for step in range(epi):\n",
    "    Qlearning()\n",
    "    # グラフ描画用に\n",
    "    if (step + 1) % 10 == 0:\n",
    "        result_q.append(Q.tolist())"
   ]
  },
  {
   "cell_type": "code",
   "execution_count": 6,
   "metadata": {},
   "outputs": [
    {
     "data": {
      "text/plain": [
       "(300, 4, 2)"
      ]
     },
     "execution_count": 6,
     "metadata": {},
     "output_type": "execute_result"
    }
   ],
   "source": [
    "# result_qはstep数/10,状態数,行動数\n",
    "np.array(result_q).shape"
   ]
  },
  {
   "cell_type": "code",
   "execution_count": 7,
   "metadata": {
    "collapsed": true
   },
   "outputs": [],
   "source": [
    "result_q = np.array(result_q).transpose([1, 2, 0])\n"
   ]
  },
  {
   "cell_type": "code",
   "execution_count": 8,
   "metadata": {},
   "outputs": [
    {
     "data": {
      "text/plain": [
       "(4, 2, 300)"
      ]
     },
     "execution_count": 8,
     "metadata": {},
     "output_type": "execute_result"
    }
   ],
   "source": [
    "# 状態数,行動数,step数/10に変更\n",
    "np.array(result_q).shape"
   ]
  },
  {
   "cell_type": "code",
   "execution_count": 9,
   "metadata": {},
   "outputs": [
    {
     "data": {
      "image/png": "[encoded data removed]",
      "text/plain": [
       "<matplotlib.figure.Figure at 0x1049d88d0>"
      ]
     },
     "metadata": {},
     "output_type": "display_data"
    }
   ],
   "source": [
    "for s in range(result_q.shape[0]):\n",
    "    for a in range(result_q[s].shape[0]):\n",
    "        if S1[s][a] == None:\n",
    "            continue\n",
    "        plt.plot(np.arange(len(result_q[s][a]))*10+1, result_q[s][a],\n",
    "                 label='Q(s{}, a{})'.format(s + 1, a + 1))\n",
    "plt.legend(loc='lower right')\n",
    "plt.show()"
   ]
  },
  {
   "cell_type": "code",
   "execution_count": 10,
   "metadata": {},
   "outputs": [
    {
     "data": {
      "text/plain": [
       "array([[  4.  ,   2.76],\n",
       "       [  2.2 ,   1.  ],\n",
       "       [  5.  , -96.8 ],\n",
       "       [  0.  ,   0.  ]])"
      ]
     },
     "execution_count": 10,
     "metadata": {},
     "output_type": "execute_result"
    }
   ],
   "source": [
    "# 行動評価関数の収束値\n",
    "Q"
   ]
  },
  {
   "cell_type": "markdown",
   "metadata": {},
   "source": [
    "# 振り返り"
   ]
  },
  {
   "cell_type": "markdown",
   "metadata": {},
   "source": [
    "*  収束した値は正しそうだが"
   ]
  },
  {
   "cell_type": "markdown",
   "metadata": {},
   "source": [
    "* 各状態での各行動の収束値は肌感覚と一致している。\n",
    "* S_1でのa_1の行動評価関数の値が-40程度\n",
    "    * 移動したS_3では、50%の確率でa_2(-100)を行うためその影響か。\n",
    "* S_1でのa_2の行動評価関数の値が-9程度\n",
    "    * S_2に進んでも、またS_1に戻って来て、S_3に進む可能性は残っているためか。\n",
    "* S_2でのa_1の行動評価関数の値が-23程度\n",
    "    * 移動したS_1では、50%の確率でa_1を行いS_3に移動、さらにa_2を行うと上記同様-100の報酬を得るためか。\n",
    "* S_2でのa_2の行動評価関数の値が1\n",
    "    * 進んだ先はS_4で、それ以上行動は起きないため。\n",
    "* S_3でのa_1の行動評価関数の値が5\n",
    "    * 進んだ先はS_4で、それ以上行動は起きないため。\n",
    "* S_3でのa_2の行動評価関数の値が-121程度\n",
    "    * 報酬が-100。さらにその後S_1から移動するため、再度S_3に来てa_2の行動をとる可能性がある。"
   ]
  }
 ],
 "metadata": {
  "kernelspec": {
   "display_name": "Python 3",
   "language": "python",
   "name": "python3"
  },
  "language_info": {
   "codemirror_mode": {
    "name": "ipython",
    "version": 3
   },
   "file_extension": ".py",
   "mimetype": "text/x-python",
   "name": "python",
   "nbconvert_exporter": "python",
   "pygments_lexer": "ipython3",
   "version": "3.6.0"
  }
 },
 "nbformat": 4,
 "nbformat_minor": 2
}
